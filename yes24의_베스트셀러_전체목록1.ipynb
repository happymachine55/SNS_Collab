{
  "nbformat": 4,
  "nbformat_minor": 0,
  "metadata": {
    "colab": {
      "provenance": [],
      "mount_file_id": "1FG7C9PSFqbVmDx9mqOKhA2c_dYR7SJX5",
      "authorship_tag": "ABX9TyOEhZQfZTUD1izqZP602iAB",
      "include_colab_link": true
    },
    "kernelspec": {
      "name": "python3",
      "display_name": "Python 3"
    },
    "language_info": {
      "name": "python"
    }
  },
  "cells": [
    {
      "cell_type": "markdown",
      "metadata": {
        "id": "view-in-github",
        "colab_type": "text"
      },
      "source": [
        "<a href=\"https://colab.research.google.com/github/happymachine55/SNS_Collab/blob/main/yes24%EC%9D%98_%EB%B2%A0%EC%8A%A4%ED%8A%B8%EC%85%80%EB%9F%AC_%EC%A0%84%EC%B2%B4%EB%AA%A9%EB%A1%9D1.ipynb\" target=\"_parent\"><img src=\"https://colab.research.google.com/assets/colab-badge.svg\" alt=\"Open In Colab\"/></a>"
      ]
    },
    {
      "cell_type": "code",
      "source": [
        "!apt-get update\n",
        "!apt-get install -y chromium-chromedriver\n",
        "!pip install selenium\n",
        "!pip install chromedriver-autoinstaller"
      ],
      "metadata": {
        "colab": {
          "base_uri": "https://localhost:8080/"
        },
        "id": "50vvair7bLg7",
        "outputId": "f05f8766-dc29-489c-e0af-7479fe1f2dd0"
      },
      "execution_count": null,
      "outputs": [
        {
          "output_type": "stream",
          "name": "stdout",
          "text": [
            "\r0% [Working]\r            \rHit:1 https://developer.download.nvidia.com/compute/cuda/repos/ubuntu2204/x86_64  InRelease\n",
            "Hit:2 https://cloud.r-project.org/bin/linux/ubuntu jammy-cran40/ InRelease\n",
            "Hit:3 http://security.ubuntu.com/ubuntu jammy-security InRelease\n",
            "Hit:4 http://archive.ubuntu.com/ubuntu jammy InRelease\n",
            "Get:5 http://archive.ubuntu.com/ubuntu jammy-updates InRelease [128 kB]\n",
            "Hit:6 https://r2u.stat.illinois.edu/ubuntu jammy InRelease\n",
            "Hit:7 https://ppa.launchpadcontent.net/deadsnakes/ppa/ubuntu jammy InRelease\n",
            "Hit:8 https://ppa.launchpadcontent.net/graphics-drivers/ppa/ubuntu jammy InRelease\n",
            "Hit:9 https://ppa.launchpadcontent.net/ubuntugis/ppa/ubuntu jammy InRelease\n",
            "Hit:10 http://archive.ubuntu.com/ubuntu jammy-backports InRelease\n",
            "Fetched 128 kB in 3s (39.1 kB/s)\n",
            "Reading package lists... Done\n",
            "W: Skipping acquire of configured file 'main/source/Sources' as repository 'https://r2u.stat.illinois.edu/ubuntu jammy InRelease' does not seem to provide it (sources.list entry misspelt?)\n",
            "Reading package lists... Done\n",
            "Building dependency tree... Done\n",
            "Reading state information... Done\n",
            "chromium-chromedriver is already the newest version (1:85.0.4183.83-0ubuntu2.22.04.1).\n",
            "0 upgraded, 0 newly installed, 0 to remove and 34 not upgraded.\n",
            "Requirement already satisfied: selenium in /usr/local/lib/python3.11/dist-packages (4.33.0)\n",
            "Requirement already satisfied: urllib3~=2.4.0 in /usr/local/lib/python3.11/dist-packages (from urllib3[socks]~=2.4.0->selenium) (2.4.0)\n",
            "Requirement already satisfied: trio~=0.30.0 in /usr/local/lib/python3.11/dist-packages (from selenium) (0.30.0)\n",
            "Requirement already satisfied: trio-websocket~=0.12.2 in /usr/local/lib/python3.11/dist-packages (from selenium) (0.12.2)\n",
            "Requirement already satisfied: certifi>=2025.4.26 in /usr/local/lib/python3.11/dist-packages (from selenium) (2025.4.26)\n",
            "Requirement already satisfied: typing_extensions~=4.13.2 in /usr/local/lib/python3.11/dist-packages (from selenium) (4.13.2)\n",
            "Requirement already satisfied: websocket-client~=1.8.0 in /usr/local/lib/python3.11/dist-packages (from selenium) (1.8.0)\n",
            "Requirement already satisfied: attrs>=23.2.0 in /usr/local/lib/python3.11/dist-packages (from trio~=0.30.0->selenium) (25.3.0)\n",
            "Requirement already satisfied: sortedcontainers in /usr/local/lib/python3.11/dist-packages (from trio~=0.30.0->selenium) (2.4.0)\n",
            "Requirement already satisfied: idna in /usr/local/lib/python3.11/dist-packages (from trio~=0.30.0->selenium) (3.10)\n",
            "Requirement already satisfied: outcome in /usr/local/lib/python3.11/dist-packages (from trio~=0.30.0->selenium) (1.3.0.post0)\n",
            "Requirement already satisfied: sniffio>=1.3.0 in /usr/local/lib/python3.11/dist-packages (from trio~=0.30.0->selenium) (1.3.1)\n",
            "Requirement already satisfied: wsproto>=0.14 in /usr/local/lib/python3.11/dist-packages (from trio-websocket~=0.12.2->selenium) (1.2.0)\n",
            "Requirement already satisfied: pysocks!=1.5.7,<2.0,>=1.5.6 in /usr/local/lib/python3.11/dist-packages (from urllib3[socks]~=2.4.0->selenium) (1.7.1)\n",
            "Requirement already satisfied: h11<1,>=0.9.0 in /usr/local/lib/python3.11/dist-packages (from wsproto>=0.14->trio-websocket~=0.12.2->selenium) (0.16.0)\n",
            "Collecting chromedriver-autoinstaller\n",
            "  Using cached chromedriver_autoinstaller-0.6.4-py3-none-any.whl.metadata (2.1 kB)\n",
            "Requirement already satisfied: packaging>=23.1 in /usr/local/lib/python3.11/dist-packages (from chromedriver-autoinstaller) (24.2)\n",
            "Using cached chromedriver_autoinstaller-0.6.4-py3-none-any.whl (7.6 kB)\n",
            "Installing collected packages: chromedriver-autoinstaller\n",
            "Successfully installed chromedriver-autoinstaller-0.6.4\n"
          ]
        }
      ]
    },
    {
      "cell_type": "code",
      "source": [
        "import pandas as pd\n",
        "from selenium import webdriver\n",
        "from selenium.webdriver.chrome.options import Options\n",
        "from selenium.webdriver.common.by import By\n",
        "from google.colab import drive\n",
        "import chromedriver_autoinstaller\n",
        "import time\n",
        "\n",
        "chrome_options = Options()\n",
        "chrome_options.add_argument('--headless')\n",
        "chrome_options.add_argument('--no-sandbox')\n",
        "chrome_options.add_argument('--disable-dev-shm-usage')\n",
        "\n",
        "chromedriver_autoinstaller.install()\n",
        "driver = webdriver.Chrome(options=chrome_options)\n"
      ],
      "metadata": {
        "id": "7VjSk7NQbLXD"
      },
      "execution_count": null,
      "outputs": []
    },
    {
      "cell_type": "code",
      "source": [
        "bestseller_list = []\n",
        "\n",
        "rank = 1  # 전체 순위\n",
        "\n",
        "for page in range(1, 11):\n",
        "    url = f'https://www.yes24.com/Product/Category/BestSeller?pageNumber={page}&pageSize=24&categoryNumber=001001003'\n",
        "    driver.get(url)\n",
        "    time.sleep(2)\n",
        "\n",
        "    books = driver.find_elements(By.CLASS_NAME, 'item_info')\n",
        "    for book in books:\n",
        "        try:\n",
        "            title = book.find_element(By.CLASS_NAME, 'gd_name').text\n",
        "        except:\n",
        "            title = ''\n",
        "        try:\n",
        "            author = book.find_element(By.CLASS_NAME, 'info_auth').text\n",
        "        except:\n",
        "            author = ''\n",
        "        try:\n",
        "            publisher = book.find_element(By.CLASS_NAME, 'info_pub').text\n",
        "        except:\n",
        "            publisher = ''\n",
        "        bestseller_list.append([f\"{rank}위\", title, author, publisher])\n",
        "        rank += 1\n",
        "\n",
        "    print(f\"{page}페이지 완료, 누적 {len(bestseller_list)}권\")\n",
        "    time.sleep(1)\n",
        "\n",
        "driver.quit()\n",
        "\n",
        "df = pd.DataFrame(bestseller_list, columns=['순위', '책제목', '저자', '출판사'])\n",
        "print(df)\n",
        "\n",
        "drive.mount('/content/drive')\n",
        "\n",
        "# 경로 예시\n",
        "df.to_excel('/content/drive/MyDrive/4학년1학기/SNS빅데이터분석/액셀찌끄래기/yes24_bestseller_all.xlsx', index=False)"
      ],
      "metadata": {
        "colab": {
          "base_uri": "https://localhost:8080/"
        },
        "id": "_R2BVw8-ad3g",
        "outputId": "8ed75dcd-b90c-411b-8f09-8bd5d648a9ad"
      },
      "execution_count": null,
      "outputs": [
        {
          "output_type": "stream",
          "name": "stdout",
          "text": [
            "1페이지 완료, 누적 24권\n",
            "2페이지 완료, 누적 48권\n",
            "3페이지 완료, 누적 72권\n",
            "4페이지 완료, 누적 96권\n",
            "5페이지 완료, 누적 120권\n",
            "6페이지 완료, 누적 144권\n",
            "7페이지 완료, 누적 168권\n",
            "8페이지 완료, 누적 192권\n",
            "9페이지 완료, 누적 216권\n",
            "10페이지 완료, 누적 240권\n",
            "       순위                                 책제목                   저자     출판사\n",
            "0      1위                 비전공자도 이해할 수 있는 챗GPT         박상길 저/정진호 그림  비즈니스북스\n",
            "1      2위            요즘 디자인을 위한 포토샵 & 일러스트레이터                서영열 저     시프트\n",
            "2      3위                            비트코인의 시대                김창익 저    다산북스\n",
            "3      4위              이게 되네? 챗GPT 미친 활용법 71제                오힘찬 저    골든래빗\n",
            "4      5위                         진짜 쓰는 실무 엑셀                전진권 저     제이펍\n",
            "..    ...                                 ...                  ...     ...\n",
            "235  236위  컴퓨팅 사고와 정보과학 : 2024년도 기출문제집(초등학생용)       Bebras Korea 저   생능출판사\n",
            "236  237위            언리얼 엔진 5로 개발하는 멀티플레이어 게임  마르코 세치 저/이지성, 송정은 역  에이콘출판사\n",
            "237  238위                    벡터 데이터베이스 설계와 구축                송한림 저    아이리포\n",
            "238  239위     맛있는 디자인 프리미어 프로&애프터 이펙트 CC 2025      심수진, 윤성우, 이수정 저   한빛미디어\n",
            "239  240위            ChatGPT 교육·미디어·업무 혁신 교과서                 김환 저      북랩\n",
            "\n",
            "[240 rows x 4 columns]\n",
            "Drive already mounted at /content/drive; to attempt to forcibly remount, call drive.mount(\"/content/drive\", force_remount=True).\n"
          ]
        }
      ]
    }
  ]
}